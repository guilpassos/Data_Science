{
  "nbformat": 4,
  "nbformat_minor": 0,
  "metadata": {
    "colab": {
      "provenance": [],
      "include_colab_link": true
    },
    "kernelspec": {
      "name": "python3",
      "display_name": "Python 3"
    },
    "language_info": {
      "name": "python"
    }
  },
  "cells": [
    {
      "cell_type": "markdown",
      "metadata": {
        "id": "view-in-github",
        "colab_type": "text"
      },
      "source": [
        "<a href=\"https://colab.research.google.com/github/guilpassos/Fuctura_Data_Science/blob/main/Arvore_Decisao_analiseClienteEcommerce_funcoes.ipynb\" target=\"_parent\"><img src=\"https://colab.research.google.com/assets/colab-badge.svg\" alt=\"Open In Colab\"/></a>"
      ]
    },
    {
      "cell_type": "markdown",
      "metadata": {
        "id": "f4nBMawrfyQ9"
      },
      "source": [
        "##**Análise de dados para aumentar nível de satisfação dos clientes de um e-commerce utilizando árvore de decisão.**\n",
        "\n",
        "__________________________________________________\n",
        "\n",
        "\n"
      ]
    },
    {
      "cell_type": "markdown",
      "metadata": {
        "id": "nWdV2dWYjiKs"
      },
      "source": [
        "**Importação das bibliotecas Pandas e Numpy**"
      ]
    },
    {
      "cell_type": "code",
      "metadata": {
        "id": "BlRCrISsoAW1"
      },
      "source": [
        "import pandas as pd\n",
        "import numpy as np\n",
        "import matplotlib.pyplot as plt"
      ],
      "execution_count": null,
      "outputs": []
    },
    {
      "cell_type": "markdown",
      "metadata": {
        "id": "ic3pDpAMjo_o"
      },
      "source": [
        "**Leitura dos tabelas .csv**"
      ]
    },
    {
      "cell_type": "code",
      "metadata": {
        "id": "zRiA7d0foUWQ"
      },
      "source": [
        "tabela_cliente = pd.read_csv('/content/1_cliente.csv')\n",
        "tabela_localizacao = pd.read_csv('/content/2_geolocalizacao.csv')\n",
        "tabela_pedido = pd.read_csv('/content/3_pedido.csv')\n",
        "tabela_pagamento = pd.read_csv('/content/4_pagamento.csv')\n",
        "tabela_review = pd.read_csv('/content/5_review_clientes.csv')\n",
        "tabela_entrega_pedido = pd.read_csv('/content/6_entrega_pedido.csv')\n",
        "tabela_descricao_produto = pd.read_csv('/content/7_descricao_produto.csv')\n",
        "tabela_vendedor = pd.read_csv('/content/8_vendedor.csv')\n",
        "tabela_categoria_traduzido = pd.read_csv('/content/9_categoria_traduzido.csv')"
      ],
      "execution_count": null,
      "outputs": []
    },
    {
      "cell_type": "markdown",
      "metadata": {
        "id": "9A4ikaMnkIcy"
      },
      "source": [
        "**Checagem dos 5 primeiros elementos de cada tabela**:\n",
        "\n",
        "1- Use .head() para visualizar as primeiras linhas de cada uma das tabelas:"
      ]
    },
    {
      "cell_type": "code",
      "source": [],
      "metadata": {
        "id": "gNRM0jiS5Tb0"
      },
      "execution_count": null,
      "outputs": []
    },
    {
      "cell_type": "markdown",
      "metadata": {
        "id": "HMbzhNcBkO3n"
      },
      "source": [
        "**Início do processo de união das 9 tabelas disponibilizadas com a finalidade de produzir uma tabela resultante que possua os elementos mais importantes para a determinação do review_score. No primero merge realizado, unimos a tabela de clientes com as respectivas entregas dos pedidos usando o código individual de cada consumidor como parâmetro.**"
      ]
    },
    {
      "cell_type": "markdown",
      "source": [
        "Conhecendo o \"merge\""
      ],
      "metadata": {
        "id": "_i1419_M0UMs"
      }
    },
    {
      "cell_type": "code",
      "metadata": {
        "id": "X-g-qw1L2RDs"
      },
      "source": [
        "pd.merge(tabela_cliente, tabela_entrega_pedido, \n",
        "         on=[\"customer_id\"], how=\"inner\")"
      ],
      "execution_count": null,
      "outputs": []
    },
    {
      "cell_type": "markdown",
      "metadata": {
        "id": "tCK8g_SMlBPg"
      },
      "source": [
        "**Processo de união de cada tabela com a próxima**\n",
        "\n",
        "**1 - (Clientes, Entregas)**\n",
        "\n",
        "**2 - (1, Pedidos)**\n",
        "\n",
        "**3 - (2, Pagamentos)**\n",
        "\n",
        "**4 - (3, Review)**\n",
        "\n",
        "**5 - (4, Vendedor)**"
      ]
    },
    {
      "cell_type": "code",
      "source": [
        "dados = tabela_cliente.merge(tabela_entrega_pedido).merge(tabela_pedido).merge(tabela_pagamento).merge(tabela_review).merge(tabela_vendedor)"
      ],
      "metadata": {
        "id": "7YNvPJScwwE4"
      },
      "execution_count": null,
      "outputs": []
    },
    {
      "cell_type": "markdown",
      "source": [
        "Visualizando a tabela resultante"
      ],
      "metadata": {
        "id": "dZ0XDKRq0gYy"
      }
    },
    {
      "cell_type": "code",
      "metadata": {
        "id": "LC75YzkN7sQI"
      },
      "source": [
        "#dados.head()"
      ],
      "execution_count": null,
      "outputs": []
    },
    {
      "cell_type": "markdown",
      "metadata": {
        "id": "kXOr8zbKnCY1"
      },
      "source": [
        "**Segunda filtragem consiste em remover elementos que não possuem\n",
        "relação com a variável review_score**"
      ]
    },
    {
      "cell_type": "code",
      "source": [
        "df_= dados.copy()"
      ],
      "metadata": {
        "id": "gYdq7YUM0s7f"
      },
      "execution_count": null,
      "outputs": []
    },
    {
      "cell_type": "code",
      "source": [
        "dados.columns.tolist()"
      ],
      "metadata": {
        "id": "-b9yrhhIJutB"
      },
      "execution_count": null,
      "outputs": []
    },
    {
      "cell_type": "code",
      "source": [
        "dataframe = dados.drop(columns=[\"customer_unique_id\",\"customer_city\",\n",
        "                          \"customer_state\", \"order_status\", \n",
        "                          \"order_purchase_timestamp\", \n",
        "                          \"order_approved_at\", \n",
        "                          \"order_delivered_carrier_date\", \n",
        "                          \"order_delivered_customer_date\",\n",
        "                          \"order_estimated_delivery_date\", \n",
        "                          \"shipping_limit_date\", \n",
        "                          \"review_creation_date\", \n",
        "                          \"review_answer_timestamp\", \n",
        "                          \"seller_city\", \n",
        "                          \"seller_state\", \n",
        "                          \"review_comment_title\", \n",
        "                          \"review_comment_message\"])\n"
      ],
      "metadata": {
        "id": "LiX6K35h2Znf"
      },
      "execution_count": null,
      "outputs": []
    },
    {
      "cell_type": "markdown",
      "metadata": {
        "id": "N1-zu58cnPwH"
      },
      "source": [
        "**Tabela Resultante após a remoção de atributos não prioritários para o nível de\n",
        "satisfação dos clientes**\n",
        "\n",
        "2- Use shape para verificar as dimensões da tabela resultante."
      ]
    },
    {
      "cell_type": "code",
      "source": [
        "dataframe"
      ],
      "metadata": {
        "id": "QZ_W7HpiMSR4"
      },
      "execution_count": null,
      "outputs": []
    },
    {
      "cell_type": "code",
      "metadata": {
        "id": "OCSpD4v29xwE",
        "colab": {
          "base_uri": "https://localhost:8080/"
        },
        "outputId": "cbec8be5-1c3c-412c-85bd-722f37750f5f"
      },
      "source": [
        "dataframe.shape"
      ],
      "execution_count": null,
      "outputs": [
        {
          "output_type": "execute_result",
          "data": {
            "text/plain": [
              "(117329, 15)"
            ]
          },
          "metadata": {},
          "execution_count": 174
        }
      ]
    },
    {
      "cell_type": "markdown",
      "source": [
        "#vetores\n",
        "Criando uma estrutura para evitar código longo:\n",
        "\n",
        "---\n",
        "\n"
      ],
      "metadata": {
        "id": "UGMDFGES1Viu"
      }
    },
    {
      "cell_type": "markdown",
      "metadata": {
        "id": "kpsBLuM_nlg9"
      },
      "source": [
        "**Inserindo cada atributo numérico da tabela resultante em um vetor para melhor manipulação dos dados**\n",
        "\n",
        "vetor = np.array(dataframe.coluna)"
      ]
    },
    {
      "cell_type": "code",
      "source": [
        "\"\"\"vetores = []\n",
        "for coluna in dataframe:\n",
        "  vetores.append(np.array(dataframe[coluna]))\n",
        "\n",
        "cliente,cepcliente, pedido,\\\n",
        "idpedido, produto, vendedor,\\\n",
        "preco_produto, frete, parcelas,\\\n",
        "tipopagamento, prestações, valorfinal,\\\n",
        "review, score, cepvendedor = (vetor for vetor in vetores)\"\"\"\n"
      ],
      "metadata": {
        "id": "Gvr5gUT7F4Qb"
      },
      "execution_count": null,
      "outputs": []
    },
    {
      "cell_type": "code",
      "source": [
        "for coluna in dataframe:\n",
        "  dataframe[coluna] = (np.array(dataframe[coluna]))"
      ],
      "metadata": {
        "id": "Vr3XeqiFSQvT"
      },
      "execution_count": null,
      "outputs": []
    },
    {
      "cell_type": "code",
      "source": [
        "cepcliente"
      ],
      "metadata": {
        "id": "fNHLFa-iE5r1"
      },
      "execution_count": null,
      "outputs": []
    },
    {
      "cell_type": "markdown",
      "metadata": {
        "id": "0ItdyyMcn9CG"
      },
      "source": [
        "**Definindo um novo dataframe vazio**"
      ]
    },
    {
      "cell_type": "code",
      "metadata": {
        "colab": {
          "base_uri": "https://localhost:8080/",
          "height": 49
        },
        "id": "nx2dYDC4iwvU",
        "outputId": "83a28fda-046a-4c6c-def4-0726bf06395c"
      },
      "source": [
        "\"\"\"df = pd.DataFrame()\n",
        "df\"\"\""
      ],
      "execution_count": null,
      "outputs": [
        {
          "output_type": "execute_result",
          "data": {
            "text/plain": [
              "Empty DataFrame\n",
              "Columns: []\n",
              "Index: []"
            ],
            "text/html": [
              "\n",
              "  <div id=\"df-50357ded-906c-4702-b3e2-fbb27f28c45c\">\n",
              "    <div class=\"colab-df-container\">\n",
              "      <div>\n",
              "<style scoped>\n",
              "    .dataframe tbody tr th:only-of-type {\n",
              "        vertical-align: middle;\n",
              "    }\n",
              "\n",
              "    .dataframe tbody tr th {\n",
              "        vertical-align: top;\n",
              "    }\n",
              "\n",
              "    .dataframe thead th {\n",
              "        text-align: right;\n",
              "    }\n",
              "</style>\n",
              "<table border=\"1\" class=\"dataframe\">\n",
              "  <thead>\n",
              "    <tr style=\"text-align: right;\">\n",
              "      <th></th>\n",
              "    </tr>\n",
              "  </thead>\n",
              "  <tbody>\n",
              "  </tbody>\n",
              "</table>\n",
              "</div>\n",
              "      <button class=\"colab-df-convert\" onclick=\"convertToInteractive('df-50357ded-906c-4702-b3e2-fbb27f28c45c')\"\n",
              "              title=\"Convert this dataframe to an interactive table.\"\n",
              "              style=\"display:none;\">\n",
              "        \n",
              "  <svg xmlns=\"http://www.w3.org/2000/svg\" height=\"24px\"viewBox=\"0 0 24 24\"\n",
              "       width=\"24px\">\n",
              "    <path d=\"M0 0h24v24H0V0z\" fill=\"none\"/>\n",
              "    <path d=\"M18.56 5.44l.94 2.06.94-2.06 2.06-.94-2.06-.94-.94-2.06-.94 2.06-2.06.94zm-11 1L8.5 8.5l.94-2.06 2.06-.94-2.06-.94L8.5 2.5l-.94 2.06-2.06.94zm10 10l.94 2.06.94-2.06 2.06-.94-2.06-.94-.94-2.06-.94 2.06-2.06.94z\"/><path d=\"M17.41 7.96l-1.37-1.37c-.4-.4-.92-.59-1.43-.59-.52 0-1.04.2-1.43.59L10.3 9.45l-7.72 7.72c-.78.78-.78 2.05 0 2.83L4 21.41c.39.39.9.59 1.41.59.51 0 1.02-.2 1.41-.59l7.78-7.78 2.81-2.81c.8-.78.8-2.07 0-2.86zM5.41 20L4 18.59l7.72-7.72 1.47 1.35L5.41 20z\"/>\n",
              "  </svg>\n",
              "      </button>\n",
              "      \n",
              "  <style>\n",
              "    .colab-df-container {\n",
              "      display:flex;\n",
              "      flex-wrap:wrap;\n",
              "      gap: 12px;\n",
              "    }\n",
              "\n",
              "    .colab-df-convert {\n",
              "      background-color: #E8F0FE;\n",
              "      border: none;\n",
              "      border-radius: 50%;\n",
              "      cursor: pointer;\n",
              "      display: none;\n",
              "      fill: #1967D2;\n",
              "      height: 32px;\n",
              "      padding: 0 0 0 0;\n",
              "      width: 32px;\n",
              "    }\n",
              "\n",
              "    .colab-df-convert:hover {\n",
              "      background-color: #E2EBFA;\n",
              "      box-shadow: 0px 1px 2px rgba(60, 64, 67, 0.3), 0px 1px 3px 1px rgba(60, 64, 67, 0.15);\n",
              "      fill: #174EA6;\n",
              "    }\n",
              "\n",
              "    [theme=dark] .colab-df-convert {\n",
              "      background-color: #3B4455;\n",
              "      fill: #D2E3FC;\n",
              "    }\n",
              "\n",
              "    [theme=dark] .colab-df-convert:hover {\n",
              "      background-color: #434B5C;\n",
              "      box-shadow: 0px 1px 3px 1px rgba(0, 0, 0, 0.15);\n",
              "      filter: drop-shadow(0px 1px 2px rgba(0, 0, 0, 0.3));\n",
              "      fill: #FFFFFF;\n",
              "    }\n",
              "  </style>\n",
              "\n",
              "      <script>\n",
              "        const buttonEl =\n",
              "          document.querySelector('#df-50357ded-906c-4702-b3e2-fbb27f28c45c button.colab-df-convert');\n",
              "        buttonEl.style.display =\n",
              "          google.colab.kernel.accessAllowed ? 'block' : 'none';\n",
              "\n",
              "        async function convertToInteractive(key) {\n",
              "          const element = document.querySelector('#df-50357ded-906c-4702-b3e2-fbb27f28c45c');\n",
              "          const dataTable =\n",
              "            await google.colab.kernel.invokeFunction('convertToInteractive',\n",
              "                                                     [key], {});\n",
              "          if (!dataTable) return;\n",
              "\n",
              "          const docLinkHtml = 'Like what you see? Visit the ' +\n",
              "            '<a target=\"_blank\" href=https://colab.research.google.com/notebooks/data_table.ipynb>data table notebook</a>'\n",
              "            + ' to learn more about interactive tables.';\n",
              "          element.innerHTML = '';\n",
              "          dataTable['output_type'] = 'display_data';\n",
              "          await google.colab.output.renderOutput(dataTable, element);\n",
              "          const docLink = document.createElement('div');\n",
              "          docLink.innerHTML = docLinkHtml;\n",
              "          element.appendChild(docLink);\n",
              "        }\n",
              "      </script>\n",
              "    </div>\n",
              "  </div>\n",
              "  "
            ]
          },
          "metadata": {},
          "execution_count": 93
        }
      ]
    },
    {
      "cell_type": "code",
      "source": [
        "\"\"\"colunas = [\"cliente\",\"cepcliente\", \"pedido\",\n",
        "\"idpedido\", \"produto\", \"vendedor\",\n",
        "\"preco_produto\", \"frete\", \"parcelas\",\n",
        "\"tipopagamento\", \"prestações\", \"valorfinal\",\n",
        "\"review\", \"score\", \"cepvendedor\"]\"\"\""
      ],
      "metadata": {
        "id": "e4-EsbHLKd_m"
      },
      "execution_count": null,
      "outputs": []
    },
    {
      "cell_type": "code",
      "source": [
        "dataframe.columns = [\"cliente\",\"cepcliente\", \"pedido\",\n",
        "\"idpedido\", \"produto\", \"vendedor\",\n",
        "\"preco_produto\", \"frete\", \"parcelas\",\n",
        "\"tipopagamento\", \"prestações\", \"valorfinal\",\n",
        "\"review\", \"score\", \"cepvendedor\"]"
      ],
      "metadata": {
        "id": "5pnv5rW5S5T2"
      },
      "execution_count": null,
      "outputs": []
    },
    {
      "cell_type": "markdown",
      "metadata": {
        "id": "ZA_52lVkoJPf"
      },
      "source": [
        "**Definindo as colunas do novo dataframe e atribuindo para cada coluna, seu respectivo vetor de dados registrado anteriormente.**"
      ]
    },
    {
      "cell_type": "code",
      "source": [
        "#df = pd.DataFrame(columns =colunas)\n"
      ],
      "metadata": {
        "id": "lXggVcGzOaM_"
      },
      "execution_count": null,
      "outputs": []
    },
    {
      "cell_type": "code",
      "source": [
        "\"\"\"for col in df:\n",
        "    df[col] = (vetor for vetor in vetores)\"\"\""
      ],
      "metadata": {
        "id": "TFWwXQAXObpY"
      },
      "execution_count": null,
      "outputs": []
    },
    {
      "cell_type": "code",
      "metadata": {
        "id": "Q18yi71okmxX"
      },
      "source": [
        "\"\"\"df = pd.DataFrame(columns =colunas)\n",
        "for coluna in df.columns:\n",
        "    coluna = (vetor for vetor in vetores)\n",
        "\n",
        "df.Cliente = vetor_cliente\n",
        "df.CEP_Cliente = vetor_cepcliente\n",
        "df.Pedido = vetor_pedido\n",
        "df.id_Pedido = vetor_idpedido\n",
        "df.Produto = vetor_produto\n",
        "df.Vendedor = vetor_vendedor\n",
        "df.Preco_produto = vetor_preco_produto\n",
        "df.Frete = vetor_frete\n",
        "df.Parcela = vetor_parcela\n",
        "df.Tipo_pagamento = vetor_tipopagamento\n",
        "df.Installments = vetor_pay\n",
        "df.Valor_total = vetor_valorfinal\n",
        "df.ID_Review = vetor_review\n",
        "df.CEP_Vendedor = vetor_cepvendedor\n",
        "df.Score = vetor_score\n",
        "df\"\"\""
      ],
      "execution_count": null,
      "outputs": []
    },
    {
      "cell_type": "markdown",
      "metadata": {
        "id": "66MvCTZhojfD"
      },
      "source": [
        "**Impressão da coluna de clientes.**"
      ]
    },
    {
      "cell_type": "code",
      "metadata": {
        "id": "RObPztDlZuyy",
        "colab": {
          "base_uri": "https://localhost:8080/"
        },
        "outputId": "65fe7adb-41e8-4e57-c550-0985d0a8b270"
      },
      "source": [
        "type(dataframe.cliente)\n",
        "#verificar se o original continua como series"
      ],
      "execution_count": null,
      "outputs": [
        {
          "output_type": "execute_result",
          "data": {
            "text/plain": [
              "pandas.core.series.Series"
            ]
          },
          "metadata": {},
          "execution_count": 167
        }
      ]
    },
    {
      "cell_type": "markdown",
      "metadata": {
        "id": "TI83wjbsosb4"
      },
      "source": [
        "**Informações do dataframe**\n",
        "\n",
        "**Atributos, elementos não nulos, Tipo das variáveis da coluna**"
      ]
    },
    {
      "cell_type": "code",
      "metadata": {
        "id": "cgMwakkDqt69"
      },
      "source": [
        "dataframe.info()"
      ],
      "execution_count": null,
      "outputs": []
    },
    {
      "cell_type": "markdown",
      "metadata": {
        "id": "J6XCWwjoo-qR"
      },
      "source": [
        "**Agrupando os elementos do dataframe por consumidor**"
      ]
    },
    {
      "cell_type": "code",
      "metadata": {
        "id": "ms7mqyohr3Vi"
      },
      "source": [
        "dataframe.groupby(by='cliente').size()"
      ],
      "execution_count": null,
      "outputs": []
    },
    {
      "cell_type": "markdown",
      "metadata": {
        "id": "NmOH3BXVpFXw"
      },
      "source": [
        "#**Importando os métodos de árvore de decisão**"
      ]
    },
    {
      "cell_type": "code",
      "metadata": {
        "id": "iZkAJqTcr-Jx"
      },
      "source": [
        "from sklearn.tree import DecisionTreeClassifier, export_graphviz\n",
        "from sklearn.model_selection import train_test_split\n",
        "from sklearn import metrics"
      ],
      "execution_count": null,
      "outputs": []
    },
    {
      "cell_type": "markdown",
      "metadata": {
        "id": "D8vd_a8LpSZn"
      },
      "source": [
        "**Para simplificar os dados, removemos todos os elementos não-numéricos para que o modelo seja capaz de realizar a execução. Solução encontrada para simplificar os atributos do tipo \"Objeto\" para tipos numéricos.**"
      ]
    },
    {
      "cell_type": "code",
      "metadata": {
        "id": "AaSgVhO_oRXa"
      },
      "source": [
        "df['Cliente'] = df['Cliente'].str.replace(r'\\D', '')\n",
        "df['Pedido'] = df['Pedido'].str.replace(r'\\D', '')\n",
        "df['Produto'] = df['Produto'].str.replace(r'\\D', '')\n",
        "df['Vendedor'] = df['Vendedor'].str.replace(r'\\D', '')\n",
        "df['ID_Review'] = df['ID_Review'].str.replace(r'\\D', '')\n",
        "df"
      ],
      "execution_count": null,
      "outputs": []
    },
    {
      "cell_type": "markdown",
      "metadata": {
        "id": "QnH0ZizKp8oS"
      },
      "source": [
        "**Realizamos o procedimento de remoção dos elementos não-numéricos para todas as colunas do tipo objeto com exceção do tipo de pagamento pois o tipo de pagamento se resume a poucas opções. Dessa forma, usamos a função get_dummies apenas para o tipo de pagamento**\n",
        "\n",
        "**Portanto, a coluna Tipo_pagamento se divide em quatro colunas com lógica booleana. As novas colunas são: Tipo_pagamento_boleto, \tTipo_pagamento_credit_card, Tipo_pagamento_debit_card, Tipo_pagamento_voucher**"
      ]
    },
    {
      "cell_type": "code",
      "metadata": {
        "id": "YKd_tWQkuQSg"
      },
      "source": [
        "result_df = pd.get_dummies(df, columns=[\"Tipo_pagamento\"])\n"
      ],
      "execution_count": null,
      "outputs": []
    },
    {
      "cell_type": "markdown",
      "metadata": {
        "id": "M3c9J8p3rKnq"
      },
      "source": [
        "**Resultado final do dataframe**"
      ]
    },
    {
      "cell_type": "code",
      "metadata": {
        "id": "yb6A7z8vucBa",
        "colab": {
          "base_uri": "https://localhost:8080/",
          "height": 488
        },
        "outputId": "b8c8830c-48b6-4bfe-b495-d3e86c6e57f0"
      },
      "source": [
        "result_df"
      ],
      "execution_count": null,
      "outputs": [
        {
          "output_type": "execute_result",
          "data": {
            "text/plain": [
              "                         Cliente  CEP_Cliente                      Pedido  \\\n",
              "0             068999211881720087        14409      0071050849957707322971   \n",
              "1         4730028858608712037403         1151          205967144362972992   \n",
              "2          260275510952946358123         8775      9516709235944631127306   \n",
              "3             406427971077955491        65075         9974373861057480116   \n",
              "4       827607252254128462738664        90010          631862016861141129   \n",
              "...                          ...          ...                         ...   \n",
              "117324          1075167500095617        39920  49462463110524497277085909   \n",
              "117325       0671403498200452602         7231         7331435643056154391   \n",
              "117326  908572770808078332363658        76400        76905458869336527267   \n",
              "117327     108322995705926071768        37610      5162460589765251860206   \n",
              "117328     108322995705926071768        37610      5162460589765251860206   \n",
              "\n",
              "        id_Pedido                   Produto                   Vendedor  \\\n",
              "0               1    9516079379936978101698       76714480069693656010   \n",
              "1               1    0766896614945862518487       76714480069693656010   \n",
              "2               1     564744977148034751092       76714480069693656010   \n",
              "3               1          8094076568610375       76714480069693656010   \n",
              "4               1       8609375091115750004       76714480069693656010   \n",
              "...           ...                       ...                        ...   \n",
              "117324          1  242136271129618259334261  9140758211403593580567204   \n",
              "117325          1         51514648249690076         414909055710300356   \n",
              "117326          1    6723658311543806891676      377183347821535223225   \n",
              "117327          1         98477838202378681           5104862382080742   \n",
              "117328          1         98477838202378681           5104862382080742   \n",
              "\n",
              "        Preco_produto   Frete  Parcela  Installments  Valor_total  \\\n",
              "0              124.99   21.88        1             2       146.87   \n",
              "1              139.94   17.79        1             7       157.73   \n",
              "2              149.94   23.36        1             1       173.30   \n",
              "3              199.98  115.77        1             6       315.75   \n",
              "4              129.60   16.61        1             1       146.21   \n",
              "...               ...     ...      ...           ...          ...   \n",
              "117324          49.90   22.28        1             3        72.18   \n",
              "117325         730.00   45.98        1            10       775.98   \n",
              "117326         135.98   88.46        1             6       224.44   \n",
              "117327         167.99   31.93        1             5       167.79   \n",
              "117328         167.99   31.93        2             1        32.13   \n",
              "\n",
              "                         ID_Review  CEP_Vendedor  Score  \\\n",
              "0             88852460269121365930          8577      4   \n",
              "1          56695761864734270698487          8577      5   \n",
              "2              0598013162266672875          8577      5   \n",
              "3           2518803238635645934852          8577      1   \n",
              "4          84467176677541425367905          8577      4   \n",
              "...                            ...           ...    ...   \n",
              "117324        70902082652897569110         87015      5   \n",
              "117325       274388990740389448855          9861      3   \n",
              "117326       601019591910776193298         83015      5   \n",
              "117327  60328738426975435430539769         12914      1   \n",
              "117328  60328738426975435430539769         12914      1   \n",
              "\n",
              "        Tipo_pagamento_boleto  Tipo_pagamento_credit_card  \\\n",
              "0                           0                           1   \n",
              "1                           0                           1   \n",
              "2                           0                           1   \n",
              "3                           0                           1   \n",
              "4                           1                           0   \n",
              "...                       ...                         ...   \n",
              "117324                      0                           1   \n",
              "117325                      0                           1   \n",
              "117326                      0                           1   \n",
              "117327                      0                           1   \n",
              "117328                      0                           1   \n",
              "\n",
              "        Tipo_pagamento_debit_card  Tipo_pagamento_voucher  \n",
              "0                               0                       0  \n",
              "1                               0                       0  \n",
              "2                               0                       0  \n",
              "3                               0                       0  \n",
              "4                               0                       0  \n",
              "...                           ...                     ...  \n",
              "117324                          0                       0  \n",
              "117325                          0                       0  \n",
              "117326                          0                       0  \n",
              "117327                          0                       0  \n",
              "117328                          0                       0  \n",
              "\n",
              "[117329 rows x 18 columns]"
            ],
            "text/html": [
              "\n",
              "  <div id=\"df-ec89a3b4-bde9-4259-82a7-6f9ca349d2ee\">\n",
              "    <div class=\"colab-df-container\">\n",
              "      <div>\n",
              "<style scoped>\n",
              "    .dataframe tbody tr th:only-of-type {\n",
              "        vertical-align: middle;\n",
              "    }\n",
              "\n",
              "    .dataframe tbody tr th {\n",
              "        vertical-align: top;\n",
              "    }\n",
              "\n",
              "    .dataframe thead th {\n",
              "        text-align: right;\n",
              "    }\n",
              "</style>\n",
              "<table border=\"1\" class=\"dataframe\">\n",
              "  <thead>\n",
              "    <tr style=\"text-align: right;\">\n",
              "      <th></th>\n",
              "      <th>Cliente</th>\n",
              "      <th>CEP_Cliente</th>\n",
              "      <th>Pedido</th>\n",
              "      <th>id_Pedido</th>\n",
              "      <th>Produto</th>\n",
              "      <th>Vendedor</th>\n",
              "      <th>Preco_produto</th>\n",
              "      <th>Frete</th>\n",
              "      <th>Parcela</th>\n",
              "      <th>Installments</th>\n",
              "      <th>Valor_total</th>\n",
              "      <th>ID_Review</th>\n",
              "      <th>CEP_Vendedor</th>\n",
              "      <th>Score</th>\n",
              "      <th>Tipo_pagamento_boleto</th>\n",
              "      <th>Tipo_pagamento_credit_card</th>\n",
              "      <th>Tipo_pagamento_debit_card</th>\n",
              "      <th>Tipo_pagamento_voucher</th>\n",
              "    </tr>\n",
              "  </thead>\n",
              "  <tbody>\n",
              "    <tr>\n",
              "      <th>0</th>\n",
              "      <td>068999211881720087</td>\n",
              "      <td>14409</td>\n",
              "      <td>0071050849957707322971</td>\n",
              "      <td>1</td>\n",
              "      <td>9516079379936978101698</td>\n",
              "      <td>76714480069693656010</td>\n",
              "      <td>124.99</td>\n",
              "      <td>21.88</td>\n",
              "      <td>1</td>\n",
              "      <td>2</td>\n",
              "      <td>146.87</td>\n",
              "      <td>88852460269121365930</td>\n",
              "      <td>8577</td>\n",
              "      <td>4</td>\n",
              "      <td>0</td>\n",
              "      <td>1</td>\n",
              "      <td>0</td>\n",
              "      <td>0</td>\n",
              "    </tr>\n",
              "    <tr>\n",
              "      <th>1</th>\n",
              "      <td>4730028858608712037403</td>\n",
              "      <td>1151</td>\n",
              "      <td>205967144362972992</td>\n",
              "      <td>1</td>\n",
              "      <td>0766896614945862518487</td>\n",
              "      <td>76714480069693656010</td>\n",
              "      <td>139.94</td>\n",
              "      <td>17.79</td>\n",
              "      <td>1</td>\n",
              "      <td>7</td>\n",
              "      <td>157.73</td>\n",
              "      <td>56695761864734270698487</td>\n",
              "      <td>8577</td>\n",
              "      <td>5</td>\n",
              "      <td>0</td>\n",
              "      <td>1</td>\n",
              "      <td>0</td>\n",
              "      <td>0</td>\n",
              "    </tr>\n",
              "    <tr>\n",
              "      <th>2</th>\n",
              "      <td>260275510952946358123</td>\n",
              "      <td>8775</td>\n",
              "      <td>9516709235944631127306</td>\n",
              "      <td>1</td>\n",
              "      <td>564744977148034751092</td>\n",
              "      <td>76714480069693656010</td>\n",
              "      <td>149.94</td>\n",
              "      <td>23.36</td>\n",
              "      <td>1</td>\n",
              "      <td>1</td>\n",
              "      <td>173.30</td>\n",
              "      <td>0598013162266672875</td>\n",
              "      <td>8577</td>\n",
              "      <td>5</td>\n",
              "      <td>0</td>\n",
              "      <td>1</td>\n",
              "      <td>0</td>\n",
              "      <td>0</td>\n",
              "    </tr>\n",
              "    <tr>\n",
              "      <th>3</th>\n",
              "      <td>406427971077955491</td>\n",
              "      <td>65075</td>\n",
              "      <td>9974373861057480116</td>\n",
              "      <td>1</td>\n",
              "      <td>8094076568610375</td>\n",
              "      <td>76714480069693656010</td>\n",
              "      <td>199.98</td>\n",
              "      <td>115.77</td>\n",
              "      <td>1</td>\n",
              "      <td>6</td>\n",
              "      <td>315.75</td>\n",
              "      <td>2518803238635645934852</td>\n",
              "      <td>8577</td>\n",
              "      <td>1</td>\n",
              "      <td>0</td>\n",
              "      <td>1</td>\n",
              "      <td>0</td>\n",
              "      <td>0</td>\n",
              "    </tr>\n",
              "    <tr>\n",
              "      <th>4</th>\n",
              "      <td>827607252254128462738664</td>\n",
              "      <td>90010</td>\n",
              "      <td>631862016861141129</td>\n",
              "      <td>1</td>\n",
              "      <td>8609375091115750004</td>\n",
              "      <td>76714480069693656010</td>\n",
              "      <td>129.60</td>\n",
              "      <td>16.61</td>\n",
              "      <td>1</td>\n",
              "      <td>1</td>\n",
              "      <td>146.21</td>\n",
              "      <td>84467176677541425367905</td>\n",
              "      <td>8577</td>\n",
              "      <td>4</td>\n",
              "      <td>1</td>\n",
              "      <td>0</td>\n",
              "      <td>0</td>\n",
              "      <td>0</td>\n",
              "    </tr>\n",
              "    <tr>\n",
              "      <th>...</th>\n",
              "      <td>...</td>\n",
              "      <td>...</td>\n",
              "      <td>...</td>\n",
              "      <td>...</td>\n",
              "      <td>...</td>\n",
              "      <td>...</td>\n",
              "      <td>...</td>\n",
              "      <td>...</td>\n",
              "      <td>...</td>\n",
              "      <td>...</td>\n",
              "      <td>...</td>\n",
              "      <td>...</td>\n",
              "      <td>...</td>\n",
              "      <td>...</td>\n",
              "      <td>...</td>\n",
              "      <td>...</td>\n",
              "      <td>...</td>\n",
              "      <td>...</td>\n",
              "    </tr>\n",
              "    <tr>\n",
              "      <th>117324</th>\n",
              "      <td>1075167500095617</td>\n",
              "      <td>39920</td>\n",
              "      <td>49462463110524497277085909</td>\n",
              "      <td>1</td>\n",
              "      <td>242136271129618259334261</td>\n",
              "      <td>9140758211403593580567204</td>\n",
              "      <td>49.90</td>\n",
              "      <td>22.28</td>\n",
              "      <td>1</td>\n",
              "      <td>3</td>\n",
              "      <td>72.18</td>\n",
              "      <td>70902082652897569110</td>\n",
              "      <td>87015</td>\n",
              "      <td>5</td>\n",
              "      <td>0</td>\n",
              "      <td>1</td>\n",
              "      <td>0</td>\n",
              "      <td>0</td>\n",
              "    </tr>\n",
              "    <tr>\n",
              "      <th>117325</th>\n",
              "      <td>0671403498200452602</td>\n",
              "      <td>7231</td>\n",
              "      <td>7331435643056154391</td>\n",
              "      <td>1</td>\n",
              "      <td>51514648249690076</td>\n",
              "      <td>414909055710300356</td>\n",
              "      <td>730.00</td>\n",
              "      <td>45.98</td>\n",
              "      <td>1</td>\n",
              "      <td>10</td>\n",
              "      <td>775.98</td>\n",
              "      <td>274388990740389448855</td>\n",
              "      <td>9861</td>\n",
              "      <td>3</td>\n",
              "      <td>0</td>\n",
              "      <td>1</td>\n",
              "      <td>0</td>\n",
              "      <td>0</td>\n",
              "    </tr>\n",
              "    <tr>\n",
              "      <th>117326</th>\n",
              "      <td>908572770808078332363658</td>\n",
              "      <td>76400</td>\n",
              "      <td>76905458869336527267</td>\n",
              "      <td>1</td>\n",
              "      <td>6723658311543806891676</td>\n",
              "      <td>377183347821535223225</td>\n",
              "      <td>135.98</td>\n",
              "      <td>88.46</td>\n",
              "      <td>1</td>\n",
              "      <td>6</td>\n",
              "      <td>224.44</td>\n",
              "      <td>601019591910776193298</td>\n",
              "      <td>83015</td>\n",
              "      <td>5</td>\n",
              "      <td>0</td>\n",
              "      <td>1</td>\n",
              "      <td>0</td>\n",
              "      <td>0</td>\n",
              "    </tr>\n",
              "    <tr>\n",
              "      <th>117327</th>\n",
              "      <td>108322995705926071768</td>\n",
              "      <td>37610</td>\n",
              "      <td>5162460589765251860206</td>\n",
              "      <td>1</td>\n",
              "      <td>98477838202378681</td>\n",
              "      <td>5104862382080742</td>\n",
              "      <td>167.99</td>\n",
              "      <td>31.93</td>\n",
              "      <td>1</td>\n",
              "      <td>5</td>\n",
              "      <td>167.79</td>\n",
              "      <td>60328738426975435430539769</td>\n",
              "      <td>12914</td>\n",
              "      <td>1</td>\n",
              "      <td>0</td>\n",
              "      <td>1</td>\n",
              "      <td>0</td>\n",
              "      <td>0</td>\n",
              "    </tr>\n",
              "    <tr>\n",
              "      <th>117328</th>\n",
              "      <td>108322995705926071768</td>\n",
              "      <td>37610</td>\n",
              "      <td>5162460589765251860206</td>\n",
              "      <td>1</td>\n",
              "      <td>98477838202378681</td>\n",
              "      <td>5104862382080742</td>\n",
              "      <td>167.99</td>\n",
              "      <td>31.93</td>\n",
              "      <td>2</td>\n",
              "      <td>1</td>\n",
              "      <td>32.13</td>\n",
              "      <td>60328738426975435430539769</td>\n",
              "      <td>12914</td>\n",
              "      <td>1</td>\n",
              "      <td>0</td>\n",
              "      <td>1</td>\n",
              "      <td>0</td>\n",
              "      <td>0</td>\n",
              "    </tr>\n",
              "  </tbody>\n",
              "</table>\n",
              "<p>117329 rows × 18 columns</p>\n",
              "</div>\n",
              "      <button class=\"colab-df-convert\" onclick=\"convertToInteractive('df-ec89a3b4-bde9-4259-82a7-6f9ca349d2ee')\"\n",
              "              title=\"Convert this dataframe to an interactive table.\"\n",
              "              style=\"display:none;\">\n",
              "        \n",
              "  <svg xmlns=\"http://www.w3.org/2000/svg\" height=\"24px\"viewBox=\"0 0 24 24\"\n",
              "       width=\"24px\">\n",
              "    <path d=\"M0 0h24v24H0V0z\" fill=\"none\"/>\n",
              "    <path d=\"M18.56 5.44l.94 2.06.94-2.06 2.06-.94-2.06-.94-.94-2.06-.94 2.06-2.06.94zm-11 1L8.5 8.5l.94-2.06 2.06-.94-2.06-.94L8.5 2.5l-.94 2.06-2.06.94zm10 10l.94 2.06.94-2.06 2.06-.94-2.06-.94-.94-2.06-.94 2.06-2.06.94z\"/><path d=\"M17.41 7.96l-1.37-1.37c-.4-.4-.92-.59-1.43-.59-.52 0-1.04.2-1.43.59L10.3 9.45l-7.72 7.72c-.78.78-.78 2.05 0 2.83L4 21.41c.39.39.9.59 1.41.59.51 0 1.02-.2 1.41-.59l7.78-7.78 2.81-2.81c.8-.78.8-2.07 0-2.86zM5.41 20L4 18.59l7.72-7.72 1.47 1.35L5.41 20z\"/>\n",
              "  </svg>\n",
              "      </button>\n",
              "      \n",
              "  <style>\n",
              "    .colab-df-container {\n",
              "      display:flex;\n",
              "      flex-wrap:wrap;\n",
              "      gap: 12px;\n",
              "    }\n",
              "\n",
              "    .colab-df-convert {\n",
              "      background-color: #E8F0FE;\n",
              "      border: none;\n",
              "      border-radius: 50%;\n",
              "      cursor: pointer;\n",
              "      display: none;\n",
              "      fill: #1967D2;\n",
              "      height: 32px;\n",
              "      padding: 0 0 0 0;\n",
              "      width: 32px;\n",
              "    }\n",
              "\n",
              "    .colab-df-convert:hover {\n",
              "      background-color: #E2EBFA;\n",
              "      box-shadow: 0px 1px 2px rgba(60, 64, 67, 0.3), 0px 1px 3px 1px rgba(60, 64, 67, 0.15);\n",
              "      fill: #174EA6;\n",
              "    }\n",
              "\n",
              "    [theme=dark] .colab-df-convert {\n",
              "      background-color: #3B4455;\n",
              "      fill: #D2E3FC;\n",
              "    }\n",
              "\n",
              "    [theme=dark] .colab-df-convert:hover {\n",
              "      background-color: #434B5C;\n",
              "      box-shadow: 0px 1px 3px 1px rgba(0, 0, 0, 0.15);\n",
              "      filter: drop-shadow(0px 1px 2px rgba(0, 0, 0, 0.3));\n",
              "      fill: #FFFFFF;\n",
              "    }\n",
              "  </style>\n",
              "\n",
              "      <script>\n",
              "        const buttonEl =\n",
              "          document.querySelector('#df-ec89a3b4-bde9-4259-82a7-6f9ca349d2ee button.colab-df-convert');\n",
              "        buttonEl.style.display =\n",
              "          google.colab.kernel.accessAllowed ? 'block' : 'none';\n",
              "\n",
              "        async function convertToInteractive(key) {\n",
              "          const element = document.querySelector('#df-ec89a3b4-bde9-4259-82a7-6f9ca349d2ee');\n",
              "          const dataTable =\n",
              "            await google.colab.kernel.invokeFunction('convertToInteractive',\n",
              "                                                     [key], {});\n",
              "          if (!dataTable) return;\n",
              "\n",
              "          const docLinkHtml = 'Like what you see? Visit the ' +\n",
              "            '<a target=\"_blank\" href=https://colab.research.google.com/notebooks/data_table.ipynb>data table notebook</a>'\n",
              "            + ' to learn more about interactive tables.';\n",
              "          element.innerHTML = '';\n",
              "          dataTable['output_type'] = 'display_data';\n",
              "          await google.colab.output.renderOutput(dataTable, element);\n",
              "          const docLink = document.createElement('div');\n",
              "          docLink.innerHTML = docLinkHtml;\n",
              "          element.appendChild(docLink);\n",
              "        }\n",
              "      </script>\n",
              "    </div>\n",
              "  </div>\n",
              "  "
            ]
          },
          "metadata": {},
          "execution_count": 27
        }
      ]
    },
    {
      "cell_type": "markdown",
      "metadata": {
        "id": "JitzjNP6rSOX"
      },
      "source": [
        "**Criação de um dataframe reserva para possíveis conclusões**"
      ]
    },
    {
      "cell_type": "code",
      "metadata": {
        "id": "fhoaN5g41GrY"
      },
      "source": [
        "reserva = result_df.copy()\n",
        "reserva"
      ],
      "execution_count": null,
      "outputs": []
    },
    {
      "cell_type": "markdown",
      "metadata": {
        "id": "rcQS41Cgrbyc"
      },
      "source": [
        "**Eliminando todas as linhas com nível 4 ou nível 5 de satisfação. Dessa forma, temos um dataframe com todos os dados, e um apenas com dados classificados com nível 3,2 ou 1 ou seja, mediano, ruim ou péssimo. (elementos que apresentam nível de insatisfação interessante para análise)**"
      ]
    },
    {
      "cell_type": "code",
      "metadata": {
        "id": "zsJnHcd41PQg"
      },
      "source": [
        "reserva = reserva.drop(reserva[reserva.Score > 3].index)\n",
        "reserva\n"
      ],
      "execution_count": null,
      "outputs": []
    },
    {
      "cell_type": "markdown",
      "metadata": {
        "id": "EvyVhc4SsCeK"
      },
      "source": [
        "**Processo de separação de treine/teste**\n",
        "\n",
        "**Proporções estabelecidas:**\n",
        "\n",
        "**70% treino**\n",
        "\n",
        "**30% teste**"
      ]
    },
    {
      "cell_type": "code",
      "source": [
        "y = result_df['Score']"
      ],
      "metadata": {
        "id": "upw82r3toG1J"
      },
      "execution_count": null,
      "outputs": []
    },
    {
      "cell_type": "code",
      "source": [
        "X = result_df.drop('Score', axis=1)"
      ],
      "metadata": {
        "id": "ZAK8RyXcoB7F"
      },
      "execution_count": null,
      "outputs": []
    },
    {
      "cell_type": "code",
      "metadata": {
        "id": "qkxlrlPQuxEj"
      },
      "source": [
        "X_train, X_test, y_train, y_test = train_test_split(X, y, test_size=0.3)"
      ],
      "execution_count": null,
      "outputs": []
    },
    {
      "cell_type": "markdown",
      "metadata": {
        "id": "tAFvAFdUsbwN"
      },
      "source": [
        "**Número de amostras para cada processo**"
      ]
    },
    {
      "cell_type": "code",
      "metadata": {
        "colab": {
          "base_uri": "https://localhost:8080/"
        },
        "id": "Nd5-MBfhvSIO",
        "outputId": "1e82f4a6-16a1-43d7-96a6-b4942b43167f"
      },
      "source": [
        "X_train.shape, X_test.shape"
      ],
      "execution_count": null,
      "outputs": [
        {
          "output_type": "execute_result",
          "data": {
            "text/plain": [
              "((82130, 17), (35199, 17))"
            ]
          },
          "metadata": {},
          "execution_count": 33
        }
      ]
    },
    {
      "cell_type": "markdown",
      "metadata": {
        "id": "9RscsBD7sj6B"
      },
      "source": [
        "**Número de targets para cada processo**"
      ]
    },
    {
      "cell_type": "code",
      "metadata": {
        "colab": {
          "base_uri": "https://localhost:8080/"
        },
        "id": "JMLrmy6Kvjqp",
        "outputId": "724cb414-b0a4-45e7-9335-da41febd45b1"
      },
      "source": [
        "y_train.shape, y_test.shape"
      ],
      "execution_count": null,
      "outputs": [
        {
          "output_type": "execute_result",
          "data": {
            "text/plain": [
              "((82130,), (35199,))"
            ]
          },
          "metadata": {},
          "execution_count": 34
        }
      ]
    },
    {
      "cell_type": "markdown",
      "metadata": {
        "id": "g5AiSR7Nsq3-"
      },
      "source": [
        "**Criação do classifcador**"
      ]
    },
    {
      "cell_type": "code",
      "metadata": {
        "id": "9aWgIjFMvqFs"
      },
      "source": [
        "cls = DecisionTreeClassifier()"
      ],
      "execution_count": null,
      "outputs": []
    },
    {
      "cell_type": "markdown",
      "metadata": {
        "id": "xzwBsel3sxQd"
      },
      "source": [
        "**Treinamento**"
      ]
    },
    {
      "cell_type": "code",
      "metadata": {
        "id": "8DIWgvnEnoOU"
      },
      "source": [
        "cls = cls.fit(X_train, y_train)"
      ],
      "execution_count": null,
      "outputs": []
    },
    {
      "cell_type": "markdown",
      "metadata": {
        "id": "X9vbLtpgszwX"
      },
      "source": [
        "**Vetor com as importancias de cada atributo para a determinação do review_score**"
      ]
    },
    {
      "cell_type": "code",
      "metadata": {
        "id": "qFwlgWk90yrM",
        "colab": {
          "base_uri": "https://localhost:8080/"
        },
        "outputId": "1f9276b6-bc48-457b-ce26-8f627ecbfa90"
      },
      "source": [
        "cls.feature_importances_"
      ],
      "execution_count": null,
      "outputs": [
        {
          "output_type": "execute_result",
          "data": {
            "text/plain": [
              "array([0.10822897, 0.11241319, 0.10474687, 0.00635806, 0.09510356,\n",
              "       0.0750454 , 0.0773494 , 0.08636357, 0.00276909, 0.03842658,\n",
              "       0.08727398, 0.11130009, 0.07212105, 0.00813314, 0.00919786,\n",
              "       0.00199643, 0.00317274])"
            ]
          },
          "metadata": {},
          "execution_count": 37
        }
      ]
    },
    {
      "cell_type": "code",
      "source": [
        "from sklearn.tree import DecisionTreeClassifier, plot_tree, \n",
        "export_graphviz, export_text\n"
      ],
      "metadata": {
        "id": "6HdJzgmFaEWm"
      },
      "execution_count": null,
      "outputs": []
    },
    {
      "cell_type": "code",
      "source": [
        "plt.rcParams[\"figure.figsize\"] = (40, 20)\n"
      ],
      "metadata": {
        "id": "T5R24RGqbhhe"
      },
      "execution_count": null,
      "outputs": []
    },
    {
      "cell_type": "code",
      "source": [
        "\"\"\"plt.figure()\n",
        "plot_tree(cls, filled=False)\n",
        "plt.show()\"\"\""
      ],
      "metadata": {
        "colab": {
          "base_uri": "https://localhost:8080/",
          "height": 35
        },
        "id": "HfoMjnivZcLb",
        "outputId": "444fed6a-7071-4aed-c4c8-49c8a3f9bcef"
      },
      "execution_count": null,
      "outputs": [
        {
          "output_type": "execute_result",
          "data": {
            "text/plain": [
              "'plt.figure()\\nplot_tree(cls, filled=False)\\nplt.show()'"
            ],
            "application/vnd.google.colaboratory.intrinsic+json": {
              "type": "string"
            }
          },
          "metadata": {},
          "execution_count": 40
        }
      ]
    },
    {
      "cell_type": "code",
      "metadata": {
        "id": "UXGh4Az704BS"
      },
      "source": [
        "df.head()"
      ],
      "execution_count": null,
      "outputs": []
    },
    {
      "cell_type": "markdown",
      "metadata": {
        "id": "pCkeQ72Is99r"
      },
      "source": [
        "**Para tornar o modelo mais visual, criamos um laço para a impressão dos pesos de cada atributo para determinar o score**"
      ]
    },
    {
      "cell_type": "code",
      "metadata": {
        "id": "OdazSuQp1G5A",
        "colab": {
          "base_uri": "https://localhost:8080/"
        },
        "outputId": "543da60b-6f57-4011-b5c8-ff4549907a4e"
      },
      "source": [
        "for feature, importancia in zip(result_df.columns, cls.feature_importances_):\n",
        "    print(\"{}:{:.1f}%\".format(feature,((importancia*100))))\n"
      ],
      "execution_count": null,
      "outputs": [
        {
          "output_type": "stream",
          "name": "stdout",
          "text": [
            "Cliente:10.8%\n",
            "CEP_Cliente:11.2%\n",
            "Pedido:10.5%\n",
            "id_Pedido:0.6%\n",
            "Produto:9.5%\n",
            "Vendedor:7.5%\n",
            "Preco_produto:7.7%\n",
            "Frete:8.6%\n",
            "Parcela:0.3%\n",
            "Installments:3.8%\n",
            "Valor_total:8.7%\n",
            "ID_Review:11.1%\n",
            "CEP_Vendedor:7.2%\n",
            "Score:0.8%\n",
            "Tipo_pagamento_boleto:0.9%\n",
            "Tipo_pagamento_credit_card:0.2%\n",
            "Tipo_pagamento_debit_card:0.3%\n"
          ]
        }
      ]
    },
    {
      "cell_type": "markdown",
      "metadata": {
        "id": "djvjXVRAtQci"
      },
      "source": [
        "**Vetor com predições para checagem do aprendizado**"
      ]
    },
    {
      "cell_type": "code",
      "metadata": {
        "id": "yPLeiTs51Nrn",
        "colab": {
          "base_uri": "https://localhost:8080/"
        },
        "outputId": "f8b1803d-40fd-43ce-feab-b7f546f8b091"
      },
      "source": [
        "result = cls.predict(X_test)\n",
        "result"
      ],
      "execution_count": null,
      "outputs": [
        {
          "output_type": "execute_result",
          "data": {
            "text/plain": [
              "array([3, 4, 5, ..., 4, 3, 5])"
            ]
          },
          "metadata": {},
          "execution_count": 43
        }
      ]
    },
    {
      "cell_type": "markdown",
      "metadata": {
        "id": "MBWWaHnUtYSp"
      },
      "source": [
        "**Representação das métricas de precisão e médias do modelo**"
      ]
    },
    {
      "cell_type": "code",
      "metadata": {
        "id": "dV9I2VYiBlO8",
        "colab": {
          "base_uri": "https://localhost:8080/"
        },
        "outputId": "80952ef0-5f25-4556-e896-4dc6ad4d9794"
      },
      "source": [
        "from sklearn import metrics\n",
        "print(metrics.classification_report(y_test,result))"
      ],
      "execution_count": null,
      "outputs": [
        {
          "output_type": "stream",
          "name": "stdout",
          "text": [
            "              precision    recall  f1-score   support\n",
            "\n",
            "           1       0.26      0.27      0.26      4472\n",
            "           2       0.14      0.14      0.14      1237\n",
            "           3       0.15      0.16      0.16      3026\n",
            "           4       0.24      0.25      0.25      6694\n",
            "           5       0.61      0.59      0.60     19770\n",
            "\n",
            "    accuracy                           0.43     35199\n",
            "   macro avg       0.28      0.28      0.28     35199\n",
            "weighted avg       0.44      0.43      0.44     35199\n",
            "\n"
          ]
        }
      ]
    },
    {
      "cell_type": "markdown",
      "metadata": {
        "id": "cxzlSiMItexo"
      },
      "source": [
        "**Precisão total**"
      ]
    },
    {
      "cell_type": "code",
      "metadata": {
        "id": "axNM8PZNJXgS",
        "colab": {
          "base_uri": "https://localhost:8080/"
        },
        "outputId": "19fb86a0-7342-4dfd-e89e-1dd9b371d507"
      },
      "source": [
        "from sklearn.model_selection import cross_val_score\n",
        "allScores = cross_val_score(cls, X_train, y_train , cv=10)\n",
        "allScores.mean()"
      ],
      "execution_count": null,
      "outputs": [
        {
          "output_type": "execute_result",
          "data": {
            "text/plain": [
              "0.43187629368075003"
            ]
          },
          "metadata": {},
          "execution_count": 45
        }
      ]
    },
    {
      "cell_type": "markdown",
      "metadata": {
        "id": "jP4vlUzPtkYg"
      },
      "source": [
        "**Treinamento utilizando o dataframe reserva. (apenas com os níveis de satisfação abaixo da média, score <=3)** "
      ]
    },
    {
      "cell_type": "markdown",
      "metadata": {
        "id": "fAACLv_It3DG"
      },
      "source": [
        "**Split do dataframe em treino e teste (70%, 30%, respectivamente)**"
      ]
    },
    {
      "cell_type": "code",
      "metadata": {
        "id": "_UJouks212AE"
      },
      "source": [
        "X_train, X_test, y_train, y_test = train_test_split(reserva.drop('Score', axis=1), \n",
        "                                                    reserva['Score'], \n",
        "                                                    test_size=0.2)"
      ],
      "execution_count": null,
      "outputs": []
    },
    {
      "cell_type": "markdown",
      "metadata": {
        "id": "s556Ukh7uFhU"
      },
      "source": [
        "**Quantidade de amostras do treino**"
      ]
    },
    {
      "cell_type": "code",
      "metadata": {
        "id": "CVoF5-F117qX"
      },
      "source": [
        "X_train.shape, X_test.shape\n"
      ],
      "execution_count": null,
      "outputs": []
    },
    {
      "cell_type": "markdown",
      "metadata": {
        "id": "aAihR-_juLqC"
      },
      "source": [
        "**Classificador**"
      ]
    },
    {
      "cell_type": "code",
      "metadata": {
        "id": "zXUQqpiO2ANc"
      },
      "source": [
        "clf = DecisionTreeClassifier()"
      ],
      "execution_count": null,
      "outputs": []
    },
    {
      "cell_type": "markdown",
      "metadata": {
        "id": "G1patiNzuQRc"
      },
      "source": [
        "**Treino**"
      ]
    },
    {
      "cell_type": "code",
      "metadata": {
        "id": "7TlD0zq62ETT"
      },
      "source": [
        "clf = clf.fit(X_train, y_train)\n"
      ],
      "execution_count": null,
      "outputs": []
    },
    {
      "cell_type": "markdown",
      "metadata": {
        "id": "vVYuvi6ouS0N"
      },
      "source": [
        "**Importancia de cada atributo para determinar o nível de satisfação dos consumidores**"
      ]
    },
    {
      "cell_type": "code",
      "metadata": {
        "colab": {
          "base_uri": "https://localhost:8080/"
        },
        "id": "u92IM-hV2IC3",
        "outputId": "bac4d37b-55a8-4e0f-b28b-4c685155a9c4"
      },
      "source": [
        "clf.feature_importances_"
      ],
      "execution_count": null,
      "outputs": [
        {
          "output_type": "execute_result",
          "data": {
            "text/plain": [
              "array([0.10941927, 0.10507044, 0.10698141, 0.00971772, 0.08788176,\n",
              "       0.08519155, 0.08140284, 0.08699867, 0.00351186, 0.03624902,\n",
              "       0.0913872 , 0.1065729 , 0.07112704, 0.00711295, 0.00700647,\n",
              "       0.0023347 , 0.00203419])"
            ]
          },
          "metadata": {},
          "execution_count": 50
        }
      ]
    },
    {
      "cell_type": "code",
      "metadata": {
        "colab": {
          "base_uri": "https://localhost:8080/"
        },
        "id": "-4kfOqzr2LLr",
        "outputId": "f6da6905-bfc1-4c28-9a80-d906a802e5b1"
      },
      "source": [
        "for feature, importancia in zip(reserva.columns, clf.feature_importances_):\n",
        "    print(\"{}:{:.1f}%\".format(feature,((importancia*100))))\n",
        "    "
      ],
      "execution_count": null,
      "outputs": [
        {
          "output_type": "stream",
          "name": "stdout",
          "text": [
            "Cliente:10.9%\n",
            "CEP_Cliente:10.5%\n",
            "Pedido:10.7%\n",
            "id_Pedido:1.0%\n",
            "Produto:8.8%\n",
            "Vendedor:8.5%\n",
            "Preco_produto:8.1%\n",
            "Frete:8.7%\n",
            "Parcela:0.4%\n",
            "Installments:3.6%\n",
            "Valor_total:9.1%\n",
            "ID_Review:10.7%\n",
            "CEP_Vendedor:7.1%\n",
            "Score:0.7%\n",
            "Tipo_pagamento_boleto:0.7%\n",
            "Tipo_pagamento_credit_card:0.2%\n",
            "Tipo_pagamento_debit_card:0.2%\n"
          ]
        }
      ]
    },
    {
      "cell_type": "markdown",
      "metadata": {
        "id": "eI9iD4zjulSZ"
      },
      "source": [
        "# ANÁLISE DOS DADOS PROCESSADOS\n",
        "\n",
        "**Com o objetivo de aumentar o review_score desse marketplace, utilizamos o algoritmo de árvore de decisão para encontrar elementos que influenciam diretamente a aceitação e satisfação dos clientes, analisando desde o processo de despacho do produto, até a qualidade do atendimento e do produto final. Dessa forma, utilizamos estratégias de filtragem. Inicialmente eliminamos os elementos que, evidentemente, não apresentavam influencia sobre a nota registrada pelo cliente. Após esse passo inicial, simplificamos o tipo dos dados para facilitar o processamento do dataframe pelo algoritmo. Após o processo de preparar os dados para o aprendizado registramos os seguintes valores:**\n",
        "\n",
        "**Considerando todos as notas (Ótimo, bom, mediano, ruim, péssimo) :**\n",
        "\n",
        "Cliente:9.7%\n",
        "\n",
        "CEP_Cliente:11.6%\n",
        "\n",
        "Pedido:10.2%\n",
        "\n",
        "id_Pedido:0.4%\n",
        "\n",
        "Produto:8.6%\n",
        "\n",
        "Vendedor:8.8%\n",
        "\n",
        "Preco_produto:8.5%\n",
        "\n",
        "Frete:8.5%\n",
        "\n",
        "Parcela:0.1%\n",
        "\n",
        "Installments:3.7%\n",
        "\n",
        "Valor_total:10.2%\n",
        "\n",
        "ID_Review:10.3%\n",
        "\n",
        "CEP_Vendedor:7.6%\n",
        "\n",
        "Score:0.8%\n",
        "\n",
        "Tipo_pagamento_boleto:0.6%\n",
        "\n",
        "Tipo_pagamento_credit_card:0.2%\n",
        "\n",
        "Tipo_pagamento_debit_card:0.1%\n",
        "\n",
        "\n",
        "------------------------------------\n",
        "\n",
        "\n",
        "---------------------\n",
        "**Portanto, com base nos resultados obtidos, o dono do marketplace deve se atentar aos seguintes parâmetros de sua logística:**\n",
        "\n",
        "**1 - Relação entre CEP_Cliente, Frete e CEP_Vendedor**\n",
        "\n",
        "**Esses atributos apresentaram importancia direta na nota registrada pelo cliente, dessa forma, algumas razões devem ser consideradas:**\n",
        "\n",
        "**-Problemas com a entrega.**\n",
        "\n",
        "**-Qualidade da entrega(tempo de entrega,comprometimento do produto durante o processo de transporte).**\n",
        "\n",
        "**-Alto preço do frete para determinadas regiões.**\n",
        "\n",
        "-----------------------------\n",
        "**2 - Produto**\n",
        "\n",
        "**O atributo produto apresentou importancia direta na insatisfação dos clientes. Portanto, deve-se considerar:**\n",
        "\n",
        "**-Qualidade ruim de determinados produtos.**\n",
        "\n",
        "**-O produto entregue não apresentar as caracteristicas do produto anunciado.**\n",
        "\n",
        "**-Entrega de produtos errados, problema de logística.**\n",
        "\n",
        "---------------------------------\n",
        "\n",
        "**3 - Vendedor**\n",
        "\n",
        "**O atributo Vendedor apresentou importancia direta na insatisfação dos clientes. Portanto, deve-se considerar:**\n",
        "\n",
        "**-Qualidade duvidosa do atendimento por parte do vendedor.**\n",
        "\n",
        "**-Erro do vendedor em alguma etapa do processo em específico.**\n",
        "\n",
        "--------------------------\n",
        "\n",
        "\n",
        "# **CONCLUSÃO**\n",
        "\n",
        "\n",
        "**Portanto, é possível concluir que para o marketplace aumentar seu score, analisar problemas logísticos por parte do processo de transporte, aspectos do produto e os vendedores são os fatores mais importantes para entender o que se passa na empresa e solucionar o problema que está gerando insatisfação dos clientes desse e-commerce.**\n",
        "\n",
        "\n",
        "\n",
        "\n",
        "\n"
      ]
    }
  ]
}