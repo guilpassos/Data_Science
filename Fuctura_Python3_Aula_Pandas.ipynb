{
  "nbformat": 4,
  "nbformat_minor": 0,
  "metadata": {
    "colab": {
      "provenance": [],
      "authorship_tag": "ABX9TyMFBQU2blAWGEwOLswh3Ayd"
    },
    "kernelspec": {
      "name": "python3",
      "display_name": "Python 3"
    },
    "language_info": {
      "name": "python"
    }
  },
  "cells": [
    {
      "cell_type": "code",
      "execution_count": 3,
      "metadata": {
        "id": "-qAMVr9CuFkQ"
      },
      "outputs": [],
      "source": [
        "import pandas as pd\n",
        "import numpy as np"
      ]
    },
    {
      "cell_type": "code",
      "source": [],
      "metadata": {
        "id": "buxxU1tBuWWv"
      },
      "execution_count": 6,
      "outputs": []
    },
    {
      "cell_type": "code",
      "source": [
        "#O que já sabemos?\n",
        "serie1 = np.array([10, 9, 8, 2, 5])\n",
        "serie1"
      ],
      "metadata": {
        "colab": {
          "base_uri": "https://localhost:8080/"
        },
        "id": "F8DI80wHuZmp",
        "outputId": "71e9d597-e633-479b-fd56-2a12a3d0b4c4"
      },
      "execution_count": 6,
      "outputs": [
        {
          "output_type": "execute_result",
          "data": {
            "text/plain": [
              "array([10,  9,  8,  2,  5])"
            ]
          },
          "metadata": {},
          "execution_count": 6
        }
      ]
    },
    {
      "cell_type": "code",
      "source": [
        "serie1 = pd.Series([10, 9, 8, 2, 5])\n",
        "serie1"
      ],
      "metadata": {
        "colab": {
          "base_uri": "https://localhost:8080/"
        },
        "id": "czdbvtlUxU_4",
        "outputId": "52d382b7-01f9-46de-f086-88385f532e81"
      },
      "execution_count": 7,
      "outputs": [
        {
          "output_type": "execute_result",
          "data": {
            "text/plain": [
              "0    10\n",
              "1     9\n",
              "2     8\n",
              "3     2\n",
              "4     5\n",
              "dtype: int64"
            ]
          },
          "metadata": {},
          "execution_count": 7
        }
      ]
    },
    {
      "cell_type": "code",
      "source": [
        "#vizualisando os valores de cada série\n",
        "serie1.values"
      ],
      "metadata": {
        "colab": {
          "base_uri": "https://localhost:8080/"
        },
        "id": "l3VXaSywyN6j",
        "outputId": "79e4051c-e9c5-49e9-c689-9ace219943a4"
      },
      "execution_count": 8,
      "outputs": [
        {
          "output_type": "execute_result",
          "data": {
            "text/plain": [
              "array([10,  9,  8,  2,  5])"
            ]
          },
          "metadata": {},
          "execution_count": 8
        }
      ]
    },
    {
      "cell_type": "code",
      "source": [
        "#solicitando informacoes sobre o index\n",
        "serie1.index"
      ],
      "metadata": {
        "colab": {
          "base_uri": "https://localhost:8080/"
        },
        "id": "cRCoxD5sy9Mx",
        "outputId": "f79ac257-4b44-4a18-8162-0d21e700fbae"
      },
      "execution_count": 10,
      "outputs": [
        {
          "output_type": "execute_result",
          "data": {
            "text/plain": [
              "RangeIndex(start=0, stop=5, step=1)"
            ]
          },
          "metadata": {},
          "execution_count": 10
        }
      ]
    },
    {
      "cell_type": "code",
      "source": [
        "#criando series com random\n",
        "serie2=pd.Series(np.random.rand(10), index=np.arange(1, 11))"
      ],
      "metadata": {
        "id": "8L6wr2ZUzIBJ"
      },
      "execution_count": 12,
      "outputs": []
    },
    {
      "cell_type": "code",
      "source": [
        "serie2"
      ],
      "metadata": {
        "colab": {
          "base_uri": "https://localhost:8080/"
        },
        "id": "GJ7VGAFxzclF",
        "outputId": "8d3591f6-f195-4a46-e328-c845bdc29dc1"
      },
      "execution_count": 13,
      "outputs": [
        {
          "output_type": "execute_result",
          "data": {
            "text/plain": [
              "1     0.719425\n",
              "2     0.008049\n",
              "3     0.612160\n",
              "4     0.592785\n",
              "5     0.624952\n",
              "6     0.284728\n",
              "7     0.229278\n",
              "8     0.601208\n",
              "9     0.520030\n",
              "10    0.487471\n",
              "dtype: float64"
            ]
          },
          "metadata": {},
          "execution_count": 13
        }
      ]
    },
    {
      "cell_type": "code",
      "source": [
        "#criando series já com definicao de index\n",
        "serie2=pd.Series([4, 7, 6, 3], index=['a', 'b', 'c', 'd'])\n",
        "serie2"
      ],
      "metadata": {
        "colab": {
          "base_uri": "https://localhost:8080/"
        },
        "id": "-P2veP6bzgrO",
        "outputId": "684fb149-4a5a-4304-b80d-108098cae0ed"
      },
      "execution_count": 15,
      "outputs": [
        {
          "output_type": "execute_result",
          "data": {
            "text/plain": [
              "a    4\n",
              "b    7\n",
              "c    6\n",
              "d    3\n",
              "dtype: int64"
            ]
          },
          "metadata": {},
          "execution_count": 15
        }
      ]
    },
    {
      "cell_type": "code",
      "source": [
        "serie2 = pd.Series([True, 7, 6, 3],  index=[4.5, 'b', 'c', 'd'])\n",
        "serie2"
      ],
      "metadata": {
        "colab": {
          "base_uri": "https://localhost:8080/"
        },
        "id": "eqfOC4f-0mFF",
        "outputId": "4477f7c2-798b-4f45-bbf4-3f08ca711d1d"
      },
      "execution_count": 16,
      "outputs": [
        {
          "output_type": "execute_result",
          "data": {
            "text/plain": [
              "4.5    True\n",
              "b         7\n",
              "c         6\n",
              "d         3\n",
              "dtype: object"
            ]
          },
          "metadata": {},
          "execution_count": 16
        }
      ]
    },
    {
      "cell_type": "code",
      "source": [
        "#selecao com auxilio do index\n",
        "serie2['c']"
      ],
      "metadata": {
        "colab": {
          "base_uri": "https://localhost:8080/"
        },
        "id": "XFGOMtEd1wNk",
        "outputId": "690e5ff7-9bb4-4a5e-a97c-4844c1c664b1"
      },
      "execution_count": 17,
      "outputs": [
        {
          "output_type": "execute_result",
          "data": {
            "text/plain": [
              "6"
            ]
          },
          "metadata": {},
          "execution_count": 17
        }
      ]
    },
    {
      "cell_type": "code",
      "source": [
        "serie2[4.5]"
      ],
      "metadata": {
        "colab": {
          "base_uri": "https://localhost:8080/"
        },
        "id": "ru3EVGj_14iF",
        "outputId": "1296132e-c6e9-4cb8-89eb-555e0afd80c3"
      },
      "execution_count": 18,
      "outputs": [
        {
          "output_type": "execute_result",
          "data": {
            "text/plain": [
              "True"
            ]
          },
          "metadata": {},
          "execution_count": 18
        }
      ]
    },
    {
      "cell_type": "code",
      "source": [
        "capitais = {\n",
        "    'Pernambuco': 'Recife', \n",
        "    'Paraíba': 'João Pessoa', \n",
        "    'Ceará': 'Fortaleza', \n",
        "    'Bahia': 'Salvador', \n",
        "    'Alagoas': 'Maceió'\n",
        "    }"
      ],
      "metadata": {
        "id": "x5YakVsY179P"
      },
      "execution_count": 19,
      "outputs": []
    },
    {
      "cell_type": "code",
      "source": [
        "type(capitais)"
      ],
      "metadata": {
        "colab": {
          "base_uri": "https://localhost:8080/"
        },
        "id": "LdaK4fjy2sFW",
        "outputId": "31cf594a-9be3-478f-b1cc-4e50e58d9a22"
      },
      "execution_count": 20,
      "outputs": [
        {
          "output_type": "execute_result",
          "data": {
            "text/plain": [
              "dict"
            ]
          },
          "metadata": {},
          "execution_count": 20
        }
      ]
    },
    {
      "cell_type": "code",
      "source": [],
      "metadata": {
        "id": "GaQ8_YTe2uhp"
      },
      "execution_count": null,
      "outputs": []
    }
  ]
}